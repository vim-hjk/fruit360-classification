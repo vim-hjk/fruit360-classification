{
 "metadata": {
  "language_info": {
   "codemirror_mode": {
    "name": "ipython",
    "version": 3
   },
   "file_extension": ".py",
   "mimetype": "text/x-python",
   "name": "python",
   "nbconvert_exporter": "python",
   "pygments_lexer": "ipython3",
   "version": "3.9.1-final"
  },
  "orig_nbformat": 2,
  "kernelspec": {
   "name": "python391jvsc74a57bd003524a5145486faac91309ce78c0d63ba7c62db5bae142656cd4fd5a5abb4150",
   "display_name": "Python 3.9.1 64-bit ('ustage': conda)"
  }
 },
 "nbformat": 4,
 "nbformat_minor": 2,
 "cells": [
  {
   "source": [
    "Labelling.ipynb\n",
    "====\n",
    "Preprocess data to create .csv file.\n",
    "\n",
    "Although the Pytorch `ImageFolder` library is convenient, we practice processing data using pandas DataFrame."
   ],
   "cell_type": "markdown",
   "metadata": {}
  },
  {
   "source": [
    "**Created by vim_hjk**"
   ],
   "cell_type": "markdown",
   "metadata": {}
  },
  {
   "source": [
    "## Import library"
   ],
   "cell_type": "markdown",
   "metadata": {}
  },
  {
   "cell_type": "code",
   "execution_count": 10,
   "metadata": {},
   "outputs": [],
   "source": [
    "import os\n",
    "import pandas as pd\n",
    "\n",
    "from glob import glob\n",
    "from prettyprinter import cpprint\n",
    "from IPython.display import display"
   ]
  },
  {
   "source": [
    "## Set root directory"
   ],
   "cell_type": "markdown",
   "metadata": {}
  },
  {
   "cell_type": "code",
   "execution_count": 11,
   "metadata": {},
   "outputs": [],
   "source": [
    "ROOT_DIR = '.\\\\fruits-360\\\\'\n",
    "DATA_SAVE_DIR = '.\\\\data\\\\'\n",
    "SUBMISSION_DIR = '.\\\\prediction\\\\'"
   ]
  },
  {
   "source": [
    "## os : When we want to copy a file or create a directory and get a list of files within specific directory"
   ],
   "cell_type": "markdown",
   "metadata": {}
  },
  {
   "cell_type": "code",
   "execution_count": 12,
   "metadata": {},
   "outputs": [
    {
     "output_type": "stream",
     "name": "stdout",
     "text": [
      "[\n    'Apple Braeburn',\n    'Apple Crimson Snow',\n    'Apple Golden 1',\n    'Apple Golden 2',\n    'Apple Golden 3',\n    'Apple Granny Smith',\n    'Apple Pink Lady',\n    'Apple Red 1',\n    'Apple Red 2',\n    'Apple Red 3',\n    'Apple Red Delicious',\n    'Apple Red Yellow 1',\n    'Apple Red Yellow 2',\n    'Apricot',\n    'Avocado',\n    'Avocado ripe',\n    'Banana',\n    'Banana Lady Finger',\n    'Banana Red',\n    'Beetroot',\n    'Blueberry',\n    'Cactus fruit',\n    'Cantaloupe 1',\n    'Cantaloupe 2',\n    'Carambula',\n    'Cauliflower',\n    'Cherry 1',\n    'Cherry 2',\n    'Cherry Rainier',\n    'Cherry Wax Black',\n    'Cherry Wax Red',\n    'Cherry Wax Yellow',\n    'Chestnut',\n    'Clementine',\n    'Cocos',\n    'Corn',\n    'Corn Husk',\n    'Cucumber Ripe',\n    'Cucumber Ripe 2',\n    'Dates',\n    'Eggplant',\n    'Fig',\n    'Ginger Root',\n    'Granadilla',\n    'Grape Blue',\n    'Grape Pink',\n    'Grape White',\n    'Grape White 2',\n    'Grape White 3',\n    'Grape White 4',\n    'Grapefruit Pink',\n    'Grapefruit White',\n    'Guava',\n    'Hazelnut',\n    'Huckleberry',\n    'Kaki',\n    'Kiwi',\n    'Kohlrabi',\n    'Kumquats',\n    'Lemon',\n    'Lemon Meyer',\n    'Limes',\n    'Lychee',\n    'Mandarine',\n    'Mango',\n    'Mango Red',\n    'Mangostan',\n    'Maracuja',\n    'Melon Piel de Sapo',\n    'Mulberry',\n    'Nectarine',\n    'Nectarine Flat',\n    'Nut Forest',\n    'Nut Pecan',\n    'Onion Red',\n    'Onion Red Peeled',\n    'Onion White',\n    'Orange',\n    'Papaya',\n    'Passion Fruit',\n    'Peach',\n    'Peach 2',\n    'Peach Flat',\n    'Pear',\n    'Pear 2',\n    'Pear Abate',\n    'Pear Forelle',\n    'Pear Kaiser',\n    'Pear Monster',\n    'Pear Red',\n    'Pear Stone',\n    'Pear Williams',\n    'Pepino',\n    'Pepper Green',\n    'Pepper Orange',\n    'Pepper Red',\n    'Pepper Yellow',\n    'Physalis',\n    'Physalis with Husk',\n    'Pineapple',\n    'Pineapple Mini',\n    'Pitahaya Red',\n    'Plum',\n    'Plum 2',\n    'Plum 3',\n    'Pomegranate',\n    'Pomelo Sweetie',\n    'Potato Red',\n    'Potato Red Washed',\n    'Potato Sweet',\n    'Potato White',\n    'Quince',\n    'Rambutan',\n    'Raspberry',\n    'Redcurrant',\n    'Salak',\n    'Strawberry',\n    'Strawberry Wedge',\n    'Tamarillo',\n    'Tangelo',\n    'Tomato 1',\n    'Tomato 2',\n    'Tomato 3',\n    'Tomato 4',\n    'Tomato Cherry Red',\n    'Tomato Heart',\n    'Tomato Maroon',\n    'Tomato not Ripened',\n    'Tomato Yellow',\n    'Walnut',\n    'Watermelon'\n]\n"
     ]
    }
   ],
   "source": [
    "label_list = os.listdir(ROOT_DIR + 'Training')\n",
    "cpprint(label_list)"
   ]
  },
  {
   "source": [
    "## glob : When we used to extract a list of files"
   ],
   "cell_type": "markdown",
   "metadata": {}
  },
  {
   "cell_type": "code",
   "execution_count": 13,
   "metadata": {
    "tags": []
   },
   "outputs": [
    {
     "output_type": "stream",
     "name": "stdout",
     "text": [
      "Example) Python file list : ['.\\\\dataset.py', '.\\\\inference.py', '.\\\\loss.py', '.\\\\main.py', '.\\\\model.py', '.\\\\train.py', '.\\\\unit_t.py', '.\\\\utils.py']\n",
      "\n",
      "Length of whole train data : 67692\n",
      "Length of label column : 67692\n",
      "Length of image_path column : 67692\n"
     ]
    }
   ],
   "source": [
    "example = glob('.\\\\*.py')\n",
    "print(f'Example) Python file list : {example}')\n",
    "\n",
    "num_train_imgs = len(glob(ROOT_DIR + f'Training\\\\*\\\\*.jpg'))\n",
    "\n",
    "data = {'image_path' : [], 'label' : []}\n",
    "\n",
    "for label in label_list:\n",
    "    train_img_path_list = glob(ROOT_DIR + f'Training\\\\{label}\\\\*.jpg')\n",
    "    for train_img_path in train_img_path_list:\n",
    "        data['label'].append(label_list.index(label))\n",
    "        data['image_path'].append(train_img_path)\n",
    "\n",
    "# check\n",
    "print(f\"\\nLength of whole train data : {num_train_imgs}\\nLength of label column : {len(data['label'])}\\nLength of image_path column : {len(data['image_path'])}\")\n",
    "    "
   ]
  },
  {
   "source": [
    "## pandas : Data structure handling tool."
   ],
   "cell_type": "markdown",
   "metadata": {}
  },
  {
   "source": [
    "## Create train.csv"
   ],
   "cell_type": "markdown",
   "metadata": {}
  },
  {
   "cell_type": "code",
   "execution_count": 14,
   "metadata": {},
   "outputs": [
    {
     "output_type": "display_data",
     "data": {
      "text/plain": "                                          image_path  label\n67687   .\\fruits-360\\Training\\Watermelon\\r_6_100.jpg    130\n67688   .\\fruits-360\\Training\\Watermelon\\r_7_100.jpg    130\n67689  .\\fruits-360\\Training\\Watermelon\\r_81_100.jpg    130\n67690   .\\fruits-360\\Training\\Watermelon\\r_8_100.jpg    130\n67691   .\\fruits-360\\Training\\Watermelon\\r_9_100.jpg    130",
      "text/html": "<div>\n<style scoped>\n    .dataframe tbody tr th:only-of-type {\n        vertical-align: middle;\n    }\n\n    .dataframe tbody tr th {\n        vertical-align: top;\n    }\n\n    .dataframe thead th {\n        text-align: right;\n    }\n</style>\n<table border=\"1\" class=\"dataframe\">\n  <thead>\n    <tr style=\"text-align: right;\">\n      <th></th>\n      <th>image_path</th>\n      <th>label</th>\n    </tr>\n  </thead>\n  <tbody>\n    <tr>\n      <th>67687</th>\n      <td>.\\fruits-360\\Training\\Watermelon\\r_6_100.jpg</td>\n      <td>130</td>\n    </tr>\n    <tr>\n      <th>67688</th>\n      <td>.\\fruits-360\\Training\\Watermelon\\r_7_100.jpg</td>\n      <td>130</td>\n    </tr>\n    <tr>\n      <th>67689</th>\n      <td>.\\fruits-360\\Training\\Watermelon\\r_81_100.jpg</td>\n      <td>130</td>\n    </tr>\n    <tr>\n      <th>67690</th>\n      <td>.\\fruits-360\\Training\\Watermelon\\r_8_100.jpg</td>\n      <td>130</td>\n    </tr>\n    <tr>\n      <th>67691</th>\n      <td>.\\fruits-360\\Training\\Watermelon\\r_9_100.jpg</td>\n      <td>130</td>\n    </tr>\n  </tbody>\n</table>\n</div>"
     },
     "metadata": {}
    },
    {
     "output_type": "stream",
     "name": "stdout",
     "text": [
      "\nLength of train data : 67692\n"
     ]
    }
   ],
   "source": [
    "train_data = pd.DataFrame(data=data)\n",
    "display(train_data.tail(5))\n",
    "print(f'\\nLength of train data : {len(train_data)}')\n",
    "\n",
    "# make save directory\n",
    "os.makedirs(DATA_SAVE_DIR, exist_ok=True)\n",
    "\n",
    "# save train.csv file\n",
    "train_data.to_csv(f'./{DATA_SAVE_DIR}/train.csv', index=False)"
   ]
  },
  {
   "source": [
    "## Create test.csv"
   ],
   "cell_type": "markdown",
   "metadata": {}
  },
  {
   "cell_type": "code",
   "execution_count": 15,
   "metadata": {},
   "outputs": [
    {
     "output_type": "stream",
     "name": "stdout",
     "text": [
      "\nLength of whole test data : 22688\nLength of label column : 22688\nLength of image_path column : 22688\n"
     ]
    }
   ],
   "source": [
    "num_test_imgs = len(glob(ROOT_DIR + f'Test\\\\*\\\\*.jpg'))\n",
    "\n",
    "data = {'image_path' : [], 'label' : []}\n",
    "\n",
    "for label in label_list:\n",
    "    test_img_path_list = glob(ROOT_DIR + f'Test\\\\{label}\\\\*.jpg')\n",
    "    for test_img_path in test_img_path_list:\n",
    "        data['label'].append(label_list.index(label))\n",
    "        data['image_path'].append(test_img_path)\n",
    "\n",
    "# check\n",
    "print(f\"\\nLength of whole test data : {num_test_imgs}\\nLength of label column : {len(data['label'])}\\nLength of image_path column : {len(data['image_path'])}\")\n",
    "    "
   ]
  },
  {
   "cell_type": "code",
   "execution_count": 16,
   "metadata": {},
   "outputs": [
    {
     "output_type": "display_data",
     "data": {
      "text/plain": "                                      image_path  label\n22683  .\\fruits-360\\Test\\Watermelon\\r_95_100.jpg    130\n22684  .\\fruits-360\\Test\\Watermelon\\r_96_100.jpg    130\n22685  .\\fruits-360\\Test\\Watermelon\\r_97_100.jpg    130\n22686  .\\fruits-360\\Test\\Watermelon\\r_98_100.jpg    130\n22687  .\\fruits-360\\Test\\Watermelon\\r_99_100.jpg    130",
      "text/html": "<div>\n<style scoped>\n    .dataframe tbody tr th:only-of-type {\n        vertical-align: middle;\n    }\n\n    .dataframe tbody tr th {\n        vertical-align: top;\n    }\n\n    .dataframe thead th {\n        text-align: right;\n    }\n</style>\n<table border=\"1\" class=\"dataframe\">\n  <thead>\n    <tr style=\"text-align: right;\">\n      <th></th>\n      <th>image_path</th>\n      <th>label</th>\n    </tr>\n  </thead>\n  <tbody>\n    <tr>\n      <th>22683</th>\n      <td>.\\fruits-360\\Test\\Watermelon\\r_95_100.jpg</td>\n      <td>130</td>\n    </tr>\n    <tr>\n      <th>22684</th>\n      <td>.\\fruits-360\\Test\\Watermelon\\r_96_100.jpg</td>\n      <td>130</td>\n    </tr>\n    <tr>\n      <th>22685</th>\n      <td>.\\fruits-360\\Test\\Watermelon\\r_97_100.jpg</td>\n      <td>130</td>\n    </tr>\n    <tr>\n      <th>22686</th>\n      <td>.\\fruits-360\\Test\\Watermelon\\r_98_100.jpg</td>\n      <td>130</td>\n    </tr>\n    <tr>\n      <th>22687</th>\n      <td>.\\fruits-360\\Test\\Watermelon\\r_99_100.jpg</td>\n      <td>130</td>\n    </tr>\n  </tbody>\n</table>\n</div>"
     },
     "metadata": {}
    },
    {
     "output_type": "stream",
     "name": "stdout",
     "text": [
      "\nLength of test data : 22688\n"
     ]
    }
   ],
   "source": [
    "test_data = pd.DataFrame(data=data)\n",
    "display(test_data.tail(5))\n",
    "\n",
    "print(f'\\nLength of test data : {len(test_data)}')\n",
    "\n",
    "# save test.csv file\n",
    "test_data.to_csv(f'./{DATA_SAVE_DIR}/test.csv', index=False)"
   ]
  },
  {
   "source": [
    "## Create Submission Format"
   ],
   "cell_type": "markdown",
   "metadata": {}
  },
  {
   "cell_type": "code",
   "execution_count": 18,
   "metadata": {},
   "outputs": [
    {
     "output_type": "display_data",
     "data": {
      "text/plain": "                                     image_path label\n0  .\\fruits-360\\Test\\Apple Braeburn\\321_100.jpg      \n1  .\\fruits-360\\Test\\Apple Braeburn\\322_100.jpg      \n2  .\\fruits-360\\Test\\Apple Braeburn\\323_100.jpg      \n3  .\\fruits-360\\Test\\Apple Braeburn\\324_100.jpg      \n4  .\\fruits-360\\Test\\Apple Braeburn\\325_100.jpg      ",
      "text/html": "<div>\n<style scoped>\n    .dataframe tbody tr th:only-of-type {\n        vertical-align: middle;\n    }\n\n    .dataframe tbody tr th {\n        vertical-align: top;\n    }\n\n    .dataframe thead th {\n        text-align: right;\n    }\n</style>\n<table border=\"1\" class=\"dataframe\">\n  <thead>\n    <tr style=\"text-align: right;\">\n      <th></th>\n      <th>image_path</th>\n      <th>label</th>\n    </tr>\n  </thead>\n  <tbody>\n    <tr>\n      <th>0</th>\n      <td>.\\fruits-360\\Test\\Apple Braeburn\\321_100.jpg</td>\n      <td></td>\n    </tr>\n    <tr>\n      <th>1</th>\n      <td>.\\fruits-360\\Test\\Apple Braeburn\\322_100.jpg</td>\n      <td></td>\n    </tr>\n    <tr>\n      <th>2</th>\n      <td>.\\fruits-360\\Test\\Apple Braeburn\\323_100.jpg</td>\n      <td></td>\n    </tr>\n    <tr>\n      <th>3</th>\n      <td>.\\fruits-360\\Test\\Apple Braeburn\\324_100.jpg</td>\n      <td></td>\n    </tr>\n    <tr>\n      <th>4</th>\n      <td>.\\fruits-360\\Test\\Apple Braeburn\\325_100.jpg</td>\n      <td></td>\n    </tr>\n  </tbody>\n</table>\n</div>"
     },
     "metadata": {}
    }
   ],
   "source": [
    "submission_format = pd.DataFrame(data={'image_path' : data['image_path']})\n",
    "submission_format['label'] = ''\n",
    "display(submission_format.head(5))\n",
    "\n",
    "os.makedirs(SUBMISSION_DIR, exist_ok=True)\n",
    "submission_format.to_csv(f'./{SUBMISSION_DIR}/info.csv', index=False)"
   ]
  }
 ]
}