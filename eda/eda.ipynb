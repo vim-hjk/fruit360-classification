{
 "metadata": {
  "language_info": {
   "codemirror_mode": {
    "name": "ipython",
    "version": 3
   },
   "file_extension": ".py",
   "mimetype": "text/x-python",
   "name": "python",
   "nbconvert_exporter": "python",
   "pygments_lexer": "ipython3",
   "version": "3.9.1-final"
  },
  "orig_nbformat": 2,
  "kernelspec": {
   "name": "python391jvsc74a57bd003524a5145486faac91309ce78c0d63ba7c62db5bae142656cd4fd5a5abb4150",
   "display_name": "Python 3.9.1 64-bit ('ustage': conda)"
  }
 },
 "nbformat": 4,
 "nbformat_minor": 2,
 "cells": [
  {
   "source": [
    "EDA(Exploratory Data Analysis)\n",
    "===\n",
    "This process that must be preceded before modeling begins.\n",
    "\n",
    "Various visualization methods are used to determine the distribution of data or relationships between variables, such as histograms, scatterplots, and correlation tables."
   ],
   "cell_type": "markdown",
   "metadata": {}
  },
  {
   "source": [
    "**Created by vim_hjk**"
   ],
   "cell_type": "markdown",
   "metadata": {}
  },
  {
   "source": [
    "## Import Library"
   ],
   "cell_type": "markdown",
   "metadata": {}
  },
  {
   "cell_type": "code",
   "execution_count": 2,
   "metadata": {},
   "outputs": [],
   "source": [
    "import pandas as pd\n",
    "import matplotlib.pyplot as plt\n",
    "import seaborn as sns\n",
    "import cv2"
   ]
  },
  {
   "cell_type": "code",
   "execution_count": null,
   "metadata": {},
   "outputs": [],
   "source": []
  }
 ]
}